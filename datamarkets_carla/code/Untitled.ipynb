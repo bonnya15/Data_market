{
 "cells": [
  {
   "cell_type": "code",
   "execution_count": 35,
   "id": "ed24ca52",
   "metadata": {},
   "outputs": [],
   "source": [
    "import warnings\n",
    "warnings.filterwarnings(\"ignore\")\n",
    "import numpy as np\n",
    "import matplotlib.pyplot as plt\n",
    "from sklearn.metrics import mean_squared_error\n",
    "import pandas as pd\n",
    "\n",
    "\n",
    "class Online_SGD:\n",
    "    \n",
    "    def __init__(self,learning_rate=0.2,n_epochs=100, k=40):\n",
    "        self.learning_rate = learning_rate\n",
    "        self.n_epochs=n_epochs\n",
    "        self.k=k\n",
    "        \n",
    "    def fit(self,X,Y):\n",
    "        self.w = np.zeros((1, X.shape[1]))  # Randomly initializing weights\n",
    "        self.b = np.zeros((1, 1))\n",
    "#         print(\"Shape of W\",self.w.shape)\n",
    "#         print(\"Shape of b\",self.b.shape)\n",
    "#         print(\"W\",self.w)\n",
    "#         print(\"b\",self.b)\n",
    "        for i in range(X.shape[0]):\n",
    "#             print(\"shape of X[i]\",X[i].shape)\n",
    "#             print(\"shape of Y[i]\",Y[i].shape)\n",
    "#             print(\"shape of w.T\",self.w.T.shape)\n",
    "            x=(np.array(X))[i].reshape(1,X.shape[1])\n",
    "            y=(np.array(Y))[i].reshape(1,1)\n",
    "#             print(\"shape of x\",x.shape)\n",
    "#             print(\"shape of y]\",y.shape)\n",
    "            Lw = np.dot((y - np.dot(x, self.w.T) - self.b),x)\n",
    "            Lb = (y - np.dot(x, self.w.T) - self.b)\n",
    "            self.w = self.w + self.learning_rate * Lw\n",
    "            self.b = self.b + self.learning_rate * Lb\n",
    "#             print(\"W\",self.w)\n",
    "#             print(\"b\",self.b)\n",
    "            self.learning_rate = self.learning_rate / 1.02\n",
    "        return self.w, self.b\n",
    "    \n",
    "    def fit_batch(self,X,Y):\n",
    "        self.w = np.zeros((1, X.shape[1]))  # Randomly initializing weights\n",
    "        self.b = np.zeros((1, 1))\n",
    "        n=1\n",
    "        while n<=self.n_epochs:\n",
    "            temp = pd.merge(pd.DataFrame(X), pd.DataFrame(Y), how='left')\n",
    "            temp2=temp.sample(self.k)\n",
    "            X_tr = temp2.iloc[:,0:temp.shape[1]].values\n",
    "            Y_tr = temp2.iloc[:,-1].values\n",
    "            \n",
    "            for i in range(self.k):\n",
    "                x=X_tr[i].reshape(1,X_tr.shape[1])\n",
    "                y=Y_tr[i].reshape(1,1)\n",
    "#                 print(\"shape of x\",x.shape)\n",
    "#                 print(\"shape of y\",y.shape)\n",
    "                Lw = (np.dot((y - np.dot(x, self.w.T) - self.b),x))*(2/self.k)\n",
    "                Lb = ((y - np.dot(x, self.w.T) - self.b))*(2/self.k)\n",
    "                self.w = self.w + self.learning_rate * Lw\n",
    "                self.b = self.b + self.learning_rate * Lb\n",
    "        #             print(\"W\",self.w)\n",
    "        #             print(\"b\",self.b)\n",
    "            \n",
    "            \n",
    "            self.learning_rate = self.learning_rate / 1\n",
    "            n=n+1\n",
    "        return self.w,self.b\n",
    "                     \n",
    "    \n",
    "    def predict(self,X):\n",
    "        m=np.dot(X, self.w.T) + self.b\n",
    "        n=m.reshape(-1,)\n",
    "        return n"
   ]
  },
  {
   "cell_type": "code",
   "execution_count": 5,
   "id": "30cf8177",
   "metadata": {},
   "outputs": [],
   "source": [
    "from sklearn.datasets import load_boston\n",
    "from random import seed\n",
    "from random import randrange\n",
    "from csv import reader\n",
    "from math import sqrt\n",
    "from sklearn import preprocessing\n",
    "import pandas as pd\n",
    "import numpy as np\n",
    "import matplotlib.pyplot as plt\n",
    "from sklearn.linear_model import SGDRegressor\n",
    "from sklearn import preprocessing\n",
    "from sklearn.metrics import mean_squared_error\n",
    "from sklearn.model_selection import train_test_split"
   ]
  },
  {
   "cell_type": "code",
   "execution_count": 18,
   "id": "b215b0bc",
   "metadata": {},
   "outputs": [],
   "source": [
    "X2 = load_boston().data\n",
    "Y2 = load_boston().target"
   ]
  },
  {
   "cell_type": "code",
   "execution_count": 19,
   "id": "df0ea34c",
   "metadata": {},
   "outputs": [],
   "source": [
    "X_train, X_test, y_train, y_test = train_test_split(X2, Y2, test_size=0.3, random_state=0)"
   ]
  },
  {
   "cell_type": "code",
   "execution_count": 20,
   "id": "8f0694f3",
   "metadata": {},
   "outputs": [],
   "source": [
    "scaler = preprocessing.StandardScaler()\n",
    "X_train = scaler.fit_transform(X_train)\n",
    "X_test = scaler.transform(X_test)"
   ]
  },
  {
   "cell_type": "code",
   "execution_count": 21,
   "id": "a23c6182",
   "metadata": {},
   "outputs": [],
   "source": [
    "from sklearn.linear_model import SGDRegressor\n",
    "clf = SGDRegressor(max_iter=1000, tol=1e-3)\n",
    "clf.fit(X_train, y_train)\n",
    "y_pred1 = clf.predict(X_test)"
   ]
  },
  {
   "cell_type": "code",
   "execution_count": 24,
   "id": "c6e8b8ff",
   "metadata": {},
   "outputs": [],
   "source": [
    "lr=Online_SGD(learning_rate=0.2)\n",
    "lr.fit(X_train,y_train)\n",
    "y_pred2 = lr.predict(X_test)"
   ]
  },
  {
   "cell_type": "code",
   "execution_count": 25,
   "id": "dba20467",
   "metadata": {},
   "outputs": [
    {
     "data": {
      "text/html": [
       "<div>\n",
       "<style scoped>\n",
       "    .dataframe tbody tr th:only-of-type {\n",
       "        vertical-align: middle;\n",
       "    }\n",
       "\n",
       "    .dataframe tbody tr th {\n",
       "        vertical-align: top;\n",
       "    }\n",
       "\n",
       "    .dataframe thead th {\n",
       "        text-align: right;\n",
       "    }\n",
       "</style>\n",
       "<table border=\"1\" class=\"dataframe\">\n",
       "  <thead>\n",
       "    <tr style=\"text-align: right;\">\n",
       "      <th></th>\n",
       "      <th>Predicted_Module</th>\n",
       "      <th>Predicted_Scratch</th>\n",
       "      <th>Actual</th>\n",
       "    </tr>\n",
       "  </thead>\n",
       "  <tbody>\n",
       "    <tr>\n",
       "      <th>0</th>\n",
       "      <td>25.934174</td>\n",
       "      <td>[22.409548961789245]</td>\n",
       "      <td>22.6</td>\n",
       "    </tr>\n",
       "    <tr>\n",
       "      <th>1</th>\n",
       "      <td>23.348455</td>\n",
       "      <td>[21.051552844477232]</td>\n",
       "      <td>50.0</td>\n",
       "    </tr>\n",
       "    <tr>\n",
       "      <th>2</th>\n",
       "      <td>29.134605</td>\n",
       "      <td>[26.70921356072838]</td>\n",
       "      <td>23.0</td>\n",
       "    </tr>\n",
       "    <tr>\n",
       "      <th>3</th>\n",
       "      <td>11.910082</td>\n",
       "      <td>[9.697382858344078]</td>\n",
       "      <td>8.3</td>\n",
       "    </tr>\n",
       "    <tr>\n",
       "      <th>4</th>\n",
       "      <td>21.544943</td>\n",
       "      <td>[20.521299568204135]</td>\n",
       "      <td>21.2</td>\n",
       "    </tr>\n",
       "    <tr>\n",
       "      <th>...</th>\n",
       "      <td>...</td>\n",
       "      <td>...</td>\n",
       "      <td>...</td>\n",
       "    </tr>\n",
       "    <tr>\n",
       "      <th>147</th>\n",
       "      <td>28.078239</td>\n",
       "      <td>[30.551871587717496]</td>\n",
       "      <td>36.2</td>\n",
       "    </tr>\n",
       "    <tr>\n",
       "      <th>148</th>\n",
       "      <td>14.482470</td>\n",
       "      <td>[17.04245670935469]</td>\n",
       "      <td>11.0</td>\n",
       "    </tr>\n",
       "    <tr>\n",
       "      <th>149</th>\n",
       "      <td>7.482021</td>\n",
       "      <td>[5.36054859746946]</td>\n",
       "      <td>7.2</td>\n",
       "    </tr>\n",
       "    <tr>\n",
       "      <th>150</th>\n",
       "      <td>28.325607</td>\n",
       "      <td>[28.228685592299193]</td>\n",
       "      <td>22.8</td>\n",
       "    </tr>\n",
       "    <tr>\n",
       "      <th>151</th>\n",
       "      <td>25.142705</td>\n",
       "      <td>[28.09363636148554]</td>\n",
       "      <td>28.7</td>\n",
       "    </tr>\n",
       "  </tbody>\n",
       "</table>\n",
       "<p>152 rows × 3 columns</p>\n",
       "</div>"
      ],
      "text/plain": [
       "     Predicted_Module     Predicted_Scratch  Actual\n",
       "0           25.934174  [22.409548961789245]    22.6\n",
       "1           23.348455  [21.051552844477232]    50.0\n",
       "2           29.134605   [26.70921356072838]    23.0\n",
       "3           11.910082   [9.697382858344078]     8.3\n",
       "4           21.544943  [20.521299568204135]    21.2\n",
       "..                ...                   ...     ...\n",
       "147         28.078239  [30.551871587717496]    36.2\n",
       "148         14.482470   [17.04245670935469]    11.0\n",
       "149          7.482021    [5.36054859746946]     7.2\n",
       "150         28.325607  [28.228685592299193]    22.8\n",
       "151         25.142705   [28.09363636148554]    28.7\n",
       "\n",
       "[152 rows x 3 columns]"
      ]
     },
     "execution_count": 25,
     "metadata": {},
     "output_type": "execute_result"
    }
   ],
   "source": [
    "Dict={\"Predicted_Module\":list(y_pred1),\"Predicted_Scratch\":list(y_pred2),\"Actual\":list(y_test)}\n",
    "result=pd.DataFrame(Dict)\n",
    "result"
   ]
  },
  {
   "cell_type": "code",
   "execution_count": 3,
   "id": "07a755ae",
   "metadata": {},
   "outputs": [],
   "source": [
    "dfX = pd.read_csv('X_VAR3.csv')\n",
    "dfY = pd.read_csv('Y_VAR3.csv')"
   ]
  },
  {
   "cell_type": "code",
   "execution_count": 6,
   "id": "7ef59d06",
   "metadata": {},
   "outputs": [],
   "source": [
    "Data_X=dfX\n",
    "Data_Y=dfY.iloc[:,0]\n",
    "Data_X_train, Data_X_test, Data_y_train, Data_y_test = train_test_split(Data_X, Data_Y, test_size=0.3, random_state=0)"
   ]
  },
  {
   "cell_type": "code",
   "execution_count": 7,
   "id": "2aedd51f",
   "metadata": {},
   "outputs": [],
   "source": [
    "from sklearn.linear_model import SGDRegressor\n",
    "clf = SGDRegressor(max_iter=1000, tol=1e-3)\n",
    "clf.fit(Data_X_train, Data_y_train)\n",
    "Data_y_pred1 = clf.predict(Data_X_test)"
   ]
  },
  {
   "cell_type": "code",
   "execution_count": 36,
   "id": "963d41b0",
   "metadata": {},
   "outputs": [],
   "source": [
    "lr=Online_SGD(learning_rate=0.2)\n",
    "lr.fit(Data_X_train,Data_y_train)\n",
    "Data_y_pred2 = lr.predict(Data_X_test)"
   ]
  },
  {
   "cell_type": "code",
   "execution_count": 37,
   "id": "6d485cca",
   "metadata": {},
   "outputs": [
    {
     "data": {
      "text/html": [
       "<div>\n",
       "<style scoped>\n",
       "    .dataframe tbody tr th:only-of-type {\n",
       "        vertical-align: middle;\n",
       "    }\n",
       "\n",
       "    .dataframe tbody tr th {\n",
       "        vertical-align: top;\n",
       "    }\n",
       "\n",
       "    .dataframe thead th {\n",
       "        text-align: right;\n",
       "    }\n",
       "</style>\n",
       "<table border=\"1\" class=\"dataframe\">\n",
       "  <thead>\n",
       "    <tr style=\"text-align: right;\">\n",
       "      <th></th>\n",
       "      <th>Predicted_Module</th>\n",
       "      <th>Predicted_Scratch</th>\n",
       "      <th>Actual</th>\n",
       "    </tr>\n",
       "  </thead>\n",
       "  <tbody>\n",
       "    <tr>\n",
       "      <th>0</th>\n",
       "      <td>2.042162</td>\n",
       "      <td>1.721030</td>\n",
       "      <td>2.380171</td>\n",
       "    </tr>\n",
       "    <tr>\n",
       "      <th>1</th>\n",
       "      <td>2.519220</td>\n",
       "      <td>1.961096</td>\n",
       "      <td>3.314087</td>\n",
       "    </tr>\n",
       "    <tr>\n",
       "      <th>2</th>\n",
       "      <td>-1.757090</td>\n",
       "      <td>-1.782852</td>\n",
       "      <td>-0.855238</td>\n",
       "    </tr>\n",
       "    <tr>\n",
       "      <th>3</th>\n",
       "      <td>-1.514928</td>\n",
       "      <td>-1.568145</td>\n",
       "      <td>-1.800950</td>\n",
       "    </tr>\n",
       "    <tr>\n",
       "      <th>4</th>\n",
       "      <td>0.048904</td>\n",
       "      <td>-0.080437</td>\n",
       "      <td>-0.509179</td>\n",
       "    </tr>\n",
       "    <tr>\n",
       "      <th>...</th>\n",
       "      <td>...</td>\n",
       "      <td>...</td>\n",
       "      <td>...</td>\n",
       "    </tr>\n",
       "    <tr>\n",
       "      <th>5251</th>\n",
       "      <td>-3.297382</td>\n",
       "      <td>-3.154890</td>\n",
       "      <td>-3.378119</td>\n",
       "    </tr>\n",
       "    <tr>\n",
       "      <th>5252</th>\n",
       "      <td>2.278290</td>\n",
       "      <td>1.956882</td>\n",
       "      <td>0.576812</td>\n",
       "    </tr>\n",
       "    <tr>\n",
       "      <th>5253</th>\n",
       "      <td>-4.506860</td>\n",
       "      <td>-4.296144</td>\n",
       "      <td>-4.076459</td>\n",
       "    </tr>\n",
       "    <tr>\n",
       "      <th>5254</th>\n",
       "      <td>0.884049</td>\n",
       "      <td>0.632777</td>\n",
       "      <td>0.596689</td>\n",
       "    </tr>\n",
       "    <tr>\n",
       "      <th>5255</th>\n",
       "      <td>0.527695</td>\n",
       "      <td>0.349485</td>\n",
       "      <td>0.589959</td>\n",
       "    </tr>\n",
       "  </tbody>\n",
       "</table>\n",
       "<p>5256 rows × 3 columns</p>\n",
       "</div>"
      ],
      "text/plain": [
       "      Predicted_Module  Predicted_Scratch    Actual\n",
       "0             2.042162           1.721030  2.380171\n",
       "1             2.519220           1.961096  3.314087\n",
       "2            -1.757090          -1.782852 -0.855238\n",
       "3            -1.514928          -1.568145 -1.800950\n",
       "4             0.048904          -0.080437 -0.509179\n",
       "...                ...                ...       ...\n",
       "5251         -3.297382          -3.154890 -3.378119\n",
       "5252          2.278290           1.956882  0.576812\n",
       "5253         -4.506860          -4.296144 -4.076459\n",
       "5254          0.884049           0.632777  0.596689\n",
       "5255          0.527695           0.349485  0.589959\n",
       "\n",
       "[5256 rows x 3 columns]"
      ]
     },
     "execution_count": 37,
     "metadata": {},
     "output_type": "execute_result"
    }
   ],
   "source": [
    "Dict2={\"Predicted_Module\":list(Data_y_pred1),\"Predicted_Scratch\":list(Data_y_pred2),\"Actual\":list(Data_y_test)}\n",
    "result2=pd.DataFrame(Dict2)\n",
    "result2"
   ]
  },
  {
   "cell_type": "code",
   "execution_count": 38,
   "id": "33e7aa73",
   "metadata": {},
   "outputs": [],
   "source": [
    "error_module = np.sum(np.abs(Data_y_test - Data_y_pred1) / Data_y_test.shape[0])\n",
    "error_scratch=np.sum(np.abs(Data_y_test - Data_y_pred2) / Data_y_test.shape[0])"
   ]
  },
  {
   "cell_type": "code",
   "execution_count": 39,
   "id": "19655ece",
   "metadata": {},
   "outputs": [
    {
     "data": {
      "text/plain": [
       "0.8008997302033702"
      ]
     },
     "execution_count": 39,
     "metadata": {},
     "output_type": "execute_result"
    }
   ],
   "source": [
    "error_module"
   ]
  },
  {
   "cell_type": "code",
   "execution_count": 40,
   "id": "5ec2829f",
   "metadata": {},
   "outputs": [
    {
     "data": {
      "text/plain": [
       "0.8262653821154045"
      ]
     },
     "execution_count": 40,
     "metadata": {},
     "output_type": "execute_result"
    }
   ],
   "source": [
    "error_scratch"
   ]
  },
  {
   "cell_type": "code",
   "execution_count": null,
   "id": "a10e581b",
   "metadata": {},
   "outputs": [],
   "source": []
  }
 ],
 "metadata": {
  "kernelspec": {
   "display_name": "Python 3",
   "language": "python",
   "name": "python3"
  },
  "language_info": {
   "codemirror_mode": {
    "name": "ipython",
    "version": 3
   },
   "file_extension": ".py",
   "mimetype": "text/x-python",
   "name": "python",
   "nbconvert_exporter": "python",
   "pygments_lexer": "ipython3",
   "version": "3.8.8"
  }
 },
 "nbformat": 4,
 "nbformat_minor": 5
}
