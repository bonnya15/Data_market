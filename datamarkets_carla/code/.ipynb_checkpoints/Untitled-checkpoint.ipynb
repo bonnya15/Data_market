{
 "cells": [
  {
   "cell_type": "code",
   "execution_count": 16,
   "id": "ed24ca52",
   "metadata": {},
   "outputs": [],
   "source": [
    "class Online_SGD:\n",
    "    import warnings\n",
    "    warnings.filterwarnings(\"ignore\")\n",
    "    import numpy as np\n",
    "    import pandas as pd\n",
    "    \n",
    "    def __init__(self,learning_rate=0.2,n_epochs=100, k=40,damp_factor=1.02,tol=1e-2,w_file=\"w.txt\",b_file=\"b.txt\"):\n",
    "        self.learning_rate = learning_rate\n",
    "        self.n_epochs=n_epochs\n",
    "        self.k=k\n",
    "        self.damp_factor=damp_factor\n",
    "        self.tol=tol\n",
    "        self.w_file=w_file\n",
    "        self.b_file=b_file\n",
    "        \n",
    "    def fit_online(self,X,Y):\n",
    "        \n",
    "        self.w = np.loadtxt(self.w_file).reshape(1, X.shape[1])  # Reading weights and bias\n",
    "        self.b = np.loadtxt(self.b_file).reshape(1, 1)\n",
    "        \n",
    "        for i in range(X.shape[0]):\n",
    "            x=(np.array(X))[i].reshape(1,X.shape[1])\n",
    "            y=(np.array(Y))[i].reshape(1,1)\n",
    "            Lw = np.dot((y - np.dot(x, self.w.T) - self.b),x)\n",
    "            Lb = (y - np.dot(x, self.w.T) - self.b)\n",
    "            self.w = self.w + self.learning_rate * Lw\n",
    "            self.b = self.b + self.learning_rate * Lb\n",
    "            self.learning_rate = self.learning_rate / self.damp_factor\n",
    "        \n",
    "        a_file = open(self.w_file, \"w\")\n",
    "        for row in self.w:\n",
    "            np.savetxt(a_file, row)\n",
    "        a_file.close()\n",
    "        b_file = open(self.b_file, \"w\")\n",
    "        for row in self.b:\n",
    "            np.savetxt(b_file, row)\n",
    "        b_file.close()\n",
    " \n",
    "        return self.w, self.b\n",
    "    \n",
    "    def fit_regression(self,X,Y):\n",
    "        from sklearn.linear_model import LinearRegression\n",
    "        reg = LinearRegression()\n",
    "        reg.fit(X, Y)\n",
    "        self.w=reg.coef_.reshape(1,X.shape[1])\n",
    "        self.b=reg.intercept_.reshape(1,1)\n",
    "        a_file = open(self.w_file, \"w\")\n",
    "        for row in self.w:\n",
    "            np.savetxt(a_file, row)\n",
    "        a_file.close()\n",
    "        b_file = open(self.b_file, \"w\")\n",
    "        for row in self.b:\n",
    "            np.savetxt(b_file, row)\n",
    "        b_file.close()\n",
    "        return self.w,self.b\n",
    "        \n",
    "    \n",
    "#     def fit_batch(self,X,Y):\n",
    "#         self.w = np.zeros((1, X.shape[1]))  # Randomly initializing weights\n",
    "#         self.b = np.zeros((1, 1))\n",
    "#         n=1\n",
    "#         while n<=self.n_epochs:\n",
    "#             temp = pd.concat([pd.DataFrame(X), pd.DataFrame(Y)], axis=1)\n",
    "#             temp2=temp.sample(self.k)\n",
    "#             X_tr = temp2.iloc[:,0:-1]\n",
    "#             Y_tr = temp2.iloc[:,-1]\n",
    "# #             print(\"shape of x_tr\",X_tr.shape)\n",
    "# #             print(\"temp shape\",temp.shape,temp2.shape)\n",
    "#             Lw=np.zeros((1, X_tr.shape[1]))\n",
    "#             Lb=np.zeros((1, 1))\n",
    "            \n",
    "#             for i in range(self.k):\n",
    "#                 x=(np.array(X_tr))[i].reshape(1,X_tr.shape[1])\n",
    "#                 y=(np.array(Y_tr))[i].reshape(1,1)\n",
    "# #                 print(\"shape of x\",x.shape)\n",
    "# #                 print(\"shape of y\",y.shape)\n",
    "#                 Lw = Lw+(np.dot((y - np.dot(x, self.w.T) - self.b),x))\n",
    "#                 Lb = Lb+((y - np.dot(x, self.w.T) - self.b))\n",
    "#             self.w = self.w + self.learning_rate * Lw\n",
    "#             self.b = self.b + self.learning_rate * Lb\n",
    "#         #             print(\"W\",self.w)\n",
    "#         #             print(\"b\",self.b)\n",
    "            \n",
    "            \n",
    "#             self.learning_rate = self.learning_rate / self.damp_factor\n",
    "#             n=n+1\n",
    "#         return self.w,self.b\n",
    "                     \n",
    "    \n",
    "    def predict(self,X):\n",
    "        self.w = np.loadtxt(self.w_file).reshape(1, X.shape[1])  # Reading weights and bias\n",
    "        self.b = np.loadtxt(self.b_file).reshape(1, 1)\n",
    "        m=np.dot(X, self.w.T) + self.b\n",
    "        n=m.reshape(-1,)\n",
    "        return n"
   ]
  },
  {
   "cell_type": "code",
   "execution_count": 15,
   "id": "30cf8177",
   "metadata": {},
   "outputs": [],
   "source": [
    "from sklearn.datasets import load_boston\n",
    "from random import seed\n",
    "from random import randrange\n",
    "from csv import reader\n",
    "from math import sqrt\n",
    "from sklearn import preprocessing\n",
    "import pandas as pd\n",
    "import numpy as np\n",
    "import matplotlib.pyplot as plt\n",
    "from sklearn.linear_model import SGDRegressor\n",
    "from sklearn import preprocessing\n",
    "from sklearn.metrics import mean_squared_error\n",
    "from sklearn.model_selection import train_test_split\n",
    "from sklearn.linear_model import LinearRegression\n",
    "import matplotlib.pyplot as plt\n",
    "from sklearn.metrics import mean_squared_error"
   ]
  },
  {
   "cell_type": "code",
   "execution_count": null,
   "id": "b215b0bc",
   "metadata": {},
   "outputs": [],
   "source": [
    "X2 = load_boston().data\n",
    "Y2 = load_boston().target"
   ]
  },
  {
   "cell_type": "code",
   "execution_count": null,
   "id": "df0ea34c",
   "metadata": {},
   "outputs": [],
   "source": [
    "X_train, X_test, y_train, y_test = train_test_split(X2, Y2, test_size=0.3, random_state=0)"
   ]
  },
  {
   "cell_type": "code",
   "execution_count": null,
   "id": "8f0694f3",
   "metadata": {},
   "outputs": [],
   "source": [
    "scaler = preprocessing.StandardScaler()\n",
    "X_train = scaler.fit_transform(X_train)\n",
    "X_test = scaler.transform(X_test)"
   ]
  },
  {
   "cell_type": "code",
   "execution_count": null,
   "id": "a23c6182",
   "metadata": {},
   "outputs": [],
   "source": [
    "from sklearn.linear_model import SGDRegressor\n",
    "clf = SGDRegressor(max_iter=1000, tol=1e-3)\n",
    "clf.fit_regression(X_train, y_train)\n",
    "y_pred1 = clf.predict(X_test)"
   ]
  },
  {
   "cell_type": "code",
   "execution_count": null,
   "id": "c6e8b8ff",
   "metadata": {},
   "outputs": [],
   "source": [
    "lr=Online_SGD(learning_rate=0.2)\n",
    "lr.fit(X_train,y_train)\n",
    "y_pred2 = lr.predict(X_test)"
   ]
  },
  {
   "cell_type": "code",
   "execution_count": null,
   "id": "dba20467",
   "metadata": {},
   "outputs": [],
   "source": [
    "Dict={\"Predicted_Module\":list(y_pred1),\"Predicted_Scratch\":list(y_pred2),\"Actual\":list(y_test)}\n",
    "result=pd.DataFrame(Dict)\n",
    "result"
   ]
  },
  {
   "cell_type": "code",
   "execution_count": 17,
   "id": "07a755ae",
   "metadata": {},
   "outputs": [],
   "source": [
    "dfX = pd.read_csv('X_VAR3.csv')\n",
    "dfY = pd.read_csv('Y_VAR3.csv')\n",
    "Data_X=dfX\n",
    "Data_Y=dfY.iloc[:,0]\n",
    "Data_X_train, Data_X_test, Data_y_train, Data_y_test = train_test_split(Data_X, Data_Y, test_size=0.3, random_state=0)"
   ]
  },
  {
   "cell_type": "code",
   "execution_count": 19,
   "id": "2aedd51f",
   "metadata": {},
   "outputs": [],
   "source": [
    "from sklearn.linear_model import SGDRegressor\n",
    "clf = LinearRegression()\n",
    "clf.fit(Data_X_train, Data_y_train)\n",
    "Data_y_pred1 = clf.predict(Data_X_test)"
   ]
  },
  {
   "cell_type": "code",
   "execution_count": 24,
   "id": "963d41b0",
   "metadata": {},
   "outputs": [],
   "source": [
    "lr=Online_SGD(learning_rate=0.2,damp_factor=1.02)\n",
    "w1,b1=lr.fit_regression(Data_X_train,Data_y_train)\n",
    "Data_y_pred2 = lr.predict(Data_X_test)"
   ]
  },
  {
   "cell_type": "code",
   "execution_count": 30,
   "id": "6d485cca",
   "metadata": {},
   "outputs": [
    {
     "data": {
      "text/html": [
       "<div>\n",
       "<style scoped>\n",
       "    .dataframe tbody tr th:only-of-type {\n",
       "        vertical-align: middle;\n",
       "    }\n",
       "\n",
       "    .dataframe tbody tr th {\n",
       "        vertical-align: top;\n",
       "    }\n",
       "\n",
       "    .dataframe thead th {\n",
       "        text-align: right;\n",
       "    }\n",
       "</style>\n",
       "<table border=\"1\" class=\"dataframe\">\n",
       "  <thead>\n",
       "    <tr style=\"text-align: right;\">\n",
       "      <th></th>\n",
       "      <th>Predicted_Module</th>\n",
       "      <th>Predicted_Scratch</th>\n",
       "      <th>Actual</th>\n",
       "    </tr>\n",
       "  </thead>\n",
       "  <tbody>\n",
       "    <tr>\n",
       "      <th>0</th>\n",
       "      <td>1.966641</td>\n",
       "      <td>1.823309</td>\n",
       "      <td>2.380171</td>\n",
       "    </tr>\n",
       "    <tr>\n",
       "      <th>1</th>\n",
       "      <td>2.537527</td>\n",
       "      <td>2.225884</td>\n",
       "      <td>3.314087</td>\n",
       "    </tr>\n",
       "    <tr>\n",
       "      <th>2</th>\n",
       "      <td>-1.703218</td>\n",
       "      <td>-1.821572</td>\n",
       "      <td>-0.855238</td>\n",
       "    </tr>\n",
       "    <tr>\n",
       "      <th>3</th>\n",
       "      <td>-1.467727</td>\n",
       "      <td>-1.598992</td>\n",
       "      <td>-1.800950</td>\n",
       "    </tr>\n",
       "    <tr>\n",
       "      <th>4</th>\n",
       "      <td>0.023120</td>\n",
       "      <td>-0.073868</td>\n",
       "      <td>-0.509179</td>\n",
       "    </tr>\n",
       "    <tr>\n",
       "      <th>...</th>\n",
       "      <td>...</td>\n",
       "      <td>...</td>\n",
       "      <td>...</td>\n",
       "    </tr>\n",
       "    <tr>\n",
       "      <th>5251</th>\n",
       "      <td>-3.219460</td>\n",
       "      <td>-3.289854</td>\n",
       "      <td>-3.378119</td>\n",
       "    </tr>\n",
       "    <tr>\n",
       "      <th>5252</th>\n",
       "      <td>2.180031</td>\n",
       "      <td>2.043834</td>\n",
       "      <td>0.576812</td>\n",
       "    </tr>\n",
       "    <tr>\n",
       "      <th>5253</th>\n",
       "      <td>-4.387519</td>\n",
       "      <td>-4.489730</td>\n",
       "      <td>-4.076459</td>\n",
       "    </tr>\n",
       "    <tr>\n",
       "      <th>5254</th>\n",
       "      <td>0.867203</td>\n",
       "      <td>0.725529</td>\n",
       "      <td>0.596689</td>\n",
       "    </tr>\n",
       "    <tr>\n",
       "      <th>5255</th>\n",
       "      <td>0.482949</td>\n",
       "      <td>0.361226</td>\n",
       "      <td>0.589959</td>\n",
       "    </tr>\n",
       "  </tbody>\n",
       "</table>\n",
       "<p>5256 rows × 3 columns</p>\n",
       "</div>"
      ],
      "text/plain": [
       "      Predicted_Module  Predicted_Scratch    Actual\n",
       "0             1.966641           1.823309  2.380171\n",
       "1             2.537527           2.225884  3.314087\n",
       "2            -1.703218          -1.821572 -0.855238\n",
       "3            -1.467727          -1.598992 -1.800950\n",
       "4             0.023120          -0.073868 -0.509179\n",
       "...                ...                ...       ...\n",
       "5251         -3.219460          -3.289854 -3.378119\n",
       "5252          2.180031           2.043834  0.576812\n",
       "5253         -4.387519          -4.489730 -4.076459\n",
       "5254          0.867203           0.725529  0.596689\n",
       "5255          0.482949           0.361226  0.589959\n",
       "\n",
       "[5256 rows x 3 columns]"
      ]
     },
     "execution_count": 30,
     "metadata": {},
     "output_type": "execute_result"
    }
   ],
   "source": [
    "Dict2={\"Predicted_Module\":list(Data_y_pred1),\"Predicted_Scratch\":list(Data_y_pred2),\"Actual\":list(Data_y_test)}\n",
    "result2=pd.DataFrame(Dict2)\n",
    "result2"
   ]
  },
  {
   "cell_type": "code",
   "execution_count": 27,
   "id": "33e7aa73",
   "metadata": {},
   "outputs": [],
   "source": [
    "error_module = np.sum(np.abs(Data_y_test - Data_y_pred1) / Data_y_test.shape[0])\n",
    "error_scratch=np.sum(np.abs(Data_y_test - Data_y_pred2) / Data_y_test.shape[0])"
   ]
  },
  {
   "cell_type": "code",
   "execution_count": 22,
   "id": "091fb68a",
   "metadata": {},
   "outputs": [
    {
     "data": {
      "text/plain": [
       "0.7986794128951884"
      ]
     },
     "execution_count": 22,
     "metadata": {},
     "output_type": "execute_result"
    }
   ],
   "source": [
    "error_module"
   ]
  },
  {
   "cell_type": "code",
   "execution_count": 28,
   "id": "ea958a7a",
   "metadata": {},
   "outputs": [
    {
     "data": {
      "text/plain": [
       "0.809936382112801"
      ]
     },
     "execution_count": 28,
     "metadata": {},
     "output_type": "execute_result"
    }
   ],
   "source": [
    "error_scratch"
   ]
  },
  {
   "cell_type": "code",
   "execution_count": null,
   "id": "aaf57acd",
   "metadata": {},
   "outputs": [],
   "source": [
    "grid={\"learning_rate\":[],\"damp_factor\":[],\"error\":[]}\n",
    "for i in range(5,100,5):\n",
    "    for j in range(80,130,5):\n",
    "        lr=Online_SGD(learning_rate=i/100,damp_factor=j/100)\n",
    "        lr.fit(Data_X_train,Data_y_train)\n",
    "        grid['learning_rate'].append(i/100)\n",
    "        grid['damp_factor'].append(j/100)\n",
    "        z = lr.predict(Data_X_test)\n",
    "        error=np.sum(np.abs(Data_y_test - z) / Data_y_test.shape[0])\n",
    "        grid['error'].append(error)\n",
    "grid_df=pd.DataFrame(grid)\n",
    "grid_df"
   ]
  },
  {
   "cell_type": "code",
   "execution_count": null,
   "id": "228bd5d3",
   "metadata": {},
   "outputs": [],
   "source": [
    "rslt_df = grid_df.sort_values(by = 'error',ascending = False)\n",
    "rslt_df"
   ]
  },
  {
   "cell_type": "code",
   "execution_count": null,
   "id": "11c476a2",
   "metadata": {},
   "outputs": [],
   "source": []
  }
 ],
 "metadata": {
  "kernelspec": {
   "display_name": "Python 3",
   "language": "python",
   "name": "python3"
  },
  "language_info": {
   "codemirror_mode": {
    "name": "ipython",
    "version": 3
   },
   "file_extension": ".py",
   "mimetype": "text/x-python",
   "name": "python",
   "nbconvert_exporter": "python",
   "pygments_lexer": "ipython3",
   "version": "3.8.8"
  }
 },
 "nbformat": 4,
 "nbformat_minor": 5
}
